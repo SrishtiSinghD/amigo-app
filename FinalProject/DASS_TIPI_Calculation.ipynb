{
  "nbformat": 4,
  "nbformat_minor": 0,
  "metadata": {
    "colab": {
      "name": "DASS_TIPI Calculation.ipynb",
      "provenance": []
    },
    "kernelspec": {
      "name": "python3",
      "display_name": "Python 3"
    },
    "language_info": {
      "name": "python"
    }
  },
  "cells": [
    {
      "cell_type": "markdown",
      "source": [
        "# CALCULATION OF DASS AND TIPI SCORE 🧮\n",
        "\n",
        "---"
      ],
      "metadata": {
        "id": "HrERkP7KxD9A"
      }
    },
    {
      "cell_type": "code",
      "execution_count": null,
      "metadata": {
        "id": "V30dVRRRfx56"
      },
      "outputs": [],
      "source": [
        "#Importing Pandas to read csv dataset file\n",
        "\n",
        "import pandas as pd"
      ]
    },
    {
      "cell_type": "code",
      "source": [
        "#Reading the data.csv file \n",
        "#<--In r'\\t' ,r means a raw string for denoting the escape sequence '\\t' as our values in csv file are seperated with a tab and not commas -->\n",
        "\n",
        "#One can always open csv files in notepad to see what kind of seperation is used\n",
        "\n",
        "df=pd.read_csv(\"/content/data.csv\", sep=r'\\t')"
      ],
      "metadata": {
        "colab": {
          "base_uri": "https://localhost:8080/"
        },
        "id": "fijCPsTxi5i2",
        "outputId": "3344b941-2ec9-4208-9271-5dd95e1cdcbb"
      },
      "execution_count": null,
      "outputs": [
        {
          "output_type": "stream",
          "name": "stderr",
          "text": [
            "/usr/local/lib/python3.7/dist-packages/pandas/util/_decorators.py:311: ParserWarning: Falling back to the 'python' engine because the 'c' engine does not support regex separators (separators > 1 char and different from '\\s+' are interpreted as regex); you can avoid this warning by specifying engine='python'.\n",
            "  return func(*args, **kwargs)\n"
          ]
        }
      ]
    },
    {
      "cell_type": "code",
      "source": [
        "#Dataframe\n",
        "\n",
        "df"
      ],
      "metadata": {
        "colab": {
          "base_uri": "https://localhost:8080/",
          "height": 522
        },
        "id": "xVMxaz4Mi8jq",
        "outputId": "55980b84-52bb-4175-f250-ed1466bd58cf"
      },
      "execution_count": null,
      "outputs": [
        {
          "output_type": "execute_result",
          "data": {
            "text/html": [
              "\n",
              "  <div id=\"df-61389380-a45c-4d8a-89dc-873110af9c1c\">\n",
              "    <div class=\"colab-df-container\">\n",
              "      <div>\n",
              "<style scoped>\n",
              "    .dataframe tbody tr th:only-of-type {\n",
              "        vertical-align: middle;\n",
              "    }\n",
              "\n",
              "    .dataframe tbody tr th {\n",
              "        vertical-align: top;\n",
              "    }\n",
              "\n",
              "    .dataframe thead th {\n",
              "        text-align: right;\n",
              "    }\n",
              "</style>\n",
              "<table border=\"1\" class=\"dataframe\">\n",
              "  <thead>\n",
              "    <tr style=\"text-align: right;\">\n",
              "      <th></th>\n",
              "      <th>Q1A</th>\n",
              "      <th>Q1I</th>\n",
              "      <th>Q1E</th>\n",
              "      <th>Q2A</th>\n",
              "      <th>Q2I</th>\n",
              "      <th>Q2E</th>\n",
              "      <th>Q3A</th>\n",
              "      <th>Q3I</th>\n",
              "      <th>Q3E</th>\n",
              "      <th>Q4A</th>\n",
              "      <th>Q4I</th>\n",
              "      <th>Q4E</th>\n",
              "      <th>Q5A</th>\n",
              "      <th>Q5I</th>\n",
              "      <th>Q5E</th>\n",
              "      <th>Q6A</th>\n",
              "      <th>Q6I</th>\n",
              "      <th>Q6E</th>\n",
              "      <th>Q7A</th>\n",
              "      <th>Q7I</th>\n",
              "      <th>Q7E</th>\n",
              "      <th>Q8A</th>\n",
              "      <th>Q8I</th>\n",
              "      <th>Q8E</th>\n",
              "      <th>Q9A</th>\n",
              "      <th>Q9I</th>\n",
              "      <th>Q9E</th>\n",
              "      <th>Q10A</th>\n",
              "      <th>Q10I</th>\n",
              "      <th>Q10E</th>\n",
              "      <th>Q11A</th>\n",
              "      <th>Q11I</th>\n",
              "      <th>Q11E</th>\n",
              "      <th>Q12A</th>\n",
              "      <th>Q12I</th>\n",
              "      <th>Q12E</th>\n",
              "      <th>Q13A</th>\n",
              "      <th>Q13I</th>\n",
              "      <th>Q13E</th>\n",
              "      <th>Q14A</th>\n",
              "      <th>...</th>\n",
              "      <th>TIPI2</th>\n",
              "      <th>TIPI3</th>\n",
              "      <th>TIPI4</th>\n",
              "      <th>TIPI5</th>\n",
              "      <th>TIPI6</th>\n",
              "      <th>TIPI7</th>\n",
              "      <th>TIPI8</th>\n",
              "      <th>TIPI9</th>\n",
              "      <th>TIPI10</th>\n",
              "      <th>VCL1</th>\n",
              "      <th>VCL2</th>\n",
              "      <th>VCL3</th>\n",
              "      <th>VCL4</th>\n",
              "      <th>VCL5</th>\n",
              "      <th>VCL6</th>\n",
              "      <th>VCL7</th>\n",
              "      <th>VCL8</th>\n",
              "      <th>VCL9</th>\n",
              "      <th>VCL10</th>\n",
              "      <th>VCL11</th>\n",
              "      <th>VCL12</th>\n",
              "      <th>VCL13</th>\n",
              "      <th>VCL14</th>\n",
              "      <th>VCL15</th>\n",
              "      <th>VCL16</th>\n",
              "      <th>education</th>\n",
              "      <th>urban</th>\n",
              "      <th>gender</th>\n",
              "      <th>engnat</th>\n",
              "      <th>age</th>\n",
              "      <th>screensize</th>\n",
              "      <th>uniquenetworklocation</th>\n",
              "      <th>hand</th>\n",
              "      <th>religion</th>\n",
              "      <th>orientation</th>\n",
              "      <th>race</th>\n",
              "      <th>voted</th>\n",
              "      <th>married</th>\n",
              "      <th>familysize</th>\n",
              "      <th>major</th>\n",
              "    </tr>\n",
              "  </thead>\n",
              "  <tbody>\n",
              "    <tr>\n",
              "      <th>0</th>\n",
              "      <td>4</td>\n",
              "      <td>28</td>\n",
              "      <td>3890</td>\n",
              "      <td>4</td>\n",
              "      <td>25</td>\n",
              "      <td>2122</td>\n",
              "      <td>2</td>\n",
              "      <td>16</td>\n",
              "      <td>1944</td>\n",
              "      <td>4</td>\n",
              "      <td>8</td>\n",
              "      <td>2044</td>\n",
              "      <td>4</td>\n",
              "      <td>34</td>\n",
              "      <td>2153</td>\n",
              "      <td>4</td>\n",
              "      <td>33</td>\n",
              "      <td>2416</td>\n",
              "      <td>4</td>\n",
              "      <td>10</td>\n",
              "      <td>2818</td>\n",
              "      <td>4</td>\n",
              "      <td>13</td>\n",
              "      <td>2259</td>\n",
              "      <td>2</td>\n",
              "      <td>21</td>\n",
              "      <td>5541</td>\n",
              "      <td>1</td>\n",
              "      <td>38</td>\n",
              "      <td>4441</td>\n",
              "      <td>4</td>\n",
              "      <td>31</td>\n",
              "      <td>2451</td>\n",
              "      <td>4</td>\n",
              "      <td>24</td>\n",
              "      <td>3325</td>\n",
              "      <td>4</td>\n",
              "      <td>14</td>\n",
              "      <td>1416</td>\n",
              "      <td>4</td>\n",
              "      <td>...</td>\n",
              "      <td>5</td>\n",
              "      <td>7</td>\n",
              "      <td>7</td>\n",
              "      <td>7</td>\n",
              "      <td>7</td>\n",
              "      <td>7</td>\n",
              "      <td>5</td>\n",
              "      <td>1</td>\n",
              "      <td>1</td>\n",
              "      <td>1</td>\n",
              "      <td>0</td>\n",
              "      <td>0</td>\n",
              "      <td>1</td>\n",
              "      <td>1</td>\n",
              "      <td>0</td>\n",
              "      <td>1</td>\n",
              "      <td>0</td>\n",
              "      <td>0</td>\n",
              "      <td>1</td>\n",
              "      <td>0</td>\n",
              "      <td>0</td>\n",
              "      <td>0</td>\n",
              "      <td>1</td>\n",
              "      <td>1</td>\n",
              "      <td>1</td>\n",
              "      <td>2</td>\n",
              "      <td>3</td>\n",
              "      <td>2</td>\n",
              "      <td>2</td>\n",
              "      <td>16</td>\n",
              "      <td>1</td>\n",
              "      <td>1</td>\n",
              "      <td>1</td>\n",
              "      <td>12</td>\n",
              "      <td>1</td>\n",
              "      <td>10</td>\n",
              "      <td>2</td>\n",
              "      <td>1</td>\n",
              "      <td>2</td>\n",
              "      <td>None</td>\n",
              "    </tr>\n",
              "    <tr>\n",
              "      <th>1</th>\n",
              "      <td>4</td>\n",
              "      <td>2</td>\n",
              "      <td>8118</td>\n",
              "      <td>1</td>\n",
              "      <td>36</td>\n",
              "      <td>2890</td>\n",
              "      <td>2</td>\n",
              "      <td>35</td>\n",
              "      <td>4777</td>\n",
              "      <td>3</td>\n",
              "      <td>28</td>\n",
              "      <td>3090</td>\n",
              "      <td>4</td>\n",
              "      <td>10</td>\n",
              "      <td>5078</td>\n",
              "      <td>4</td>\n",
              "      <td>40</td>\n",
              "      <td>2790</td>\n",
              "      <td>3</td>\n",
              "      <td>18</td>\n",
              "      <td>3408</td>\n",
              "      <td>4</td>\n",
              "      <td>1</td>\n",
              "      <td>8342</td>\n",
              "      <td>3</td>\n",
              "      <td>37</td>\n",
              "      <td>916</td>\n",
              "      <td>2</td>\n",
              "      <td>32</td>\n",
              "      <td>1537</td>\n",
              "      <td>2</td>\n",
              "      <td>21</td>\n",
              "      <td>3926</td>\n",
              "      <td>2</td>\n",
              "      <td>25</td>\n",
              "      <td>3691</td>\n",
              "      <td>4</td>\n",
              "      <td>26</td>\n",
              "      <td>2004</td>\n",
              "      <td>4</td>\n",
              "      <td>...</td>\n",
              "      <td>5</td>\n",
              "      <td>4</td>\n",
              "      <td>7</td>\n",
              "      <td>5</td>\n",
              "      <td>4</td>\n",
              "      <td>7</td>\n",
              "      <td>7</td>\n",
              "      <td>1</td>\n",
              "      <td>5</td>\n",
              "      <td>1</td>\n",
              "      <td>1</td>\n",
              "      <td>0</td>\n",
              "      <td>1</td>\n",
              "      <td>1</td>\n",
              "      <td>0</td>\n",
              "      <td>0</td>\n",
              "      <td>0</td>\n",
              "      <td>0</td>\n",
              "      <td>1</td>\n",
              "      <td>0</td>\n",
              "      <td>0</td>\n",
              "      <td>0</td>\n",
              "      <td>1</td>\n",
              "      <td>1</td>\n",
              "      <td>1</td>\n",
              "      <td>2</td>\n",
              "      <td>3</td>\n",
              "      <td>2</td>\n",
              "      <td>1</td>\n",
              "      <td>16</td>\n",
              "      <td>2</td>\n",
              "      <td>1</td>\n",
              "      <td>2</td>\n",
              "      <td>7</td>\n",
              "      <td>0</td>\n",
              "      <td>70</td>\n",
              "      <td>2</td>\n",
              "      <td>1</td>\n",
              "      <td>4</td>\n",
              "      <td>None</td>\n",
              "    </tr>\n",
              "    <tr>\n",
              "      <th>2</th>\n",
              "      <td>3</td>\n",
              "      <td>7</td>\n",
              "      <td>5784</td>\n",
              "      <td>1</td>\n",
              "      <td>33</td>\n",
              "      <td>4373</td>\n",
              "      <td>4</td>\n",
              "      <td>41</td>\n",
              "      <td>3242</td>\n",
              "      <td>1</td>\n",
              "      <td>13</td>\n",
              "      <td>6470</td>\n",
              "      <td>4</td>\n",
              "      <td>11</td>\n",
              "      <td>3927</td>\n",
              "      <td>3</td>\n",
              "      <td>9</td>\n",
              "      <td>3704</td>\n",
              "      <td>1</td>\n",
              "      <td>17</td>\n",
              "      <td>4550</td>\n",
              "      <td>3</td>\n",
              "      <td>5</td>\n",
              "      <td>3021</td>\n",
              "      <td>2</td>\n",
              "      <td>32</td>\n",
              "      <td>5864</td>\n",
              "      <td>4</td>\n",
              "      <td>21</td>\n",
              "      <td>3722</td>\n",
              "      <td>2</td>\n",
              "      <td>10</td>\n",
              "      <td>3424</td>\n",
              "      <td>1</td>\n",
              "      <td>36</td>\n",
              "      <td>3236</td>\n",
              "      <td>4</td>\n",
              "      <td>23</td>\n",
              "      <td>2489</td>\n",
              "      <td>1</td>\n",
              "      <td>...</td>\n",
              "      <td>5</td>\n",
              "      <td>2</td>\n",
              "      <td>2</td>\n",
              "      <td>5</td>\n",
              "      <td>6</td>\n",
              "      <td>5</td>\n",
              "      <td>5</td>\n",
              "      <td>3</td>\n",
              "      <td>2</td>\n",
              "      <td>1</td>\n",
              "      <td>0</td>\n",
              "      <td>0</td>\n",
              "      <td>1</td>\n",
              "      <td>1</td>\n",
              "      <td>0</td>\n",
              "      <td>0</td>\n",
              "      <td>0</td>\n",
              "      <td>0</td>\n",
              "      <td>0</td>\n",
              "      <td>1</td>\n",
              "      <td>0</td>\n",
              "      <td>0</td>\n",
              "      <td>1</td>\n",
              "      <td>1</td>\n",
              "      <td>1</td>\n",
              "      <td>2</td>\n",
              "      <td>3</td>\n",
              "      <td>2</td>\n",
              "      <td>2</td>\n",
              "      <td>17</td>\n",
              "      <td>2</td>\n",
              "      <td>1</td>\n",
              "      <td>1</td>\n",
              "      <td>4</td>\n",
              "      <td>3</td>\n",
              "      <td>60</td>\n",
              "      <td>1</td>\n",
              "      <td>1</td>\n",
              "      <td>3</td>\n",
              "      <td>None</td>\n",
              "    </tr>\n",
              "    <tr>\n",
              "      <th>3</th>\n",
              "      <td>2</td>\n",
              "      <td>23</td>\n",
              "      <td>5081</td>\n",
              "      <td>3</td>\n",
              "      <td>11</td>\n",
              "      <td>6837</td>\n",
              "      <td>2</td>\n",
              "      <td>37</td>\n",
              "      <td>5521</td>\n",
              "      <td>1</td>\n",
              "      <td>27</td>\n",
              "      <td>4556</td>\n",
              "      <td>3</td>\n",
              "      <td>28</td>\n",
              "      <td>3269</td>\n",
              "      <td>3</td>\n",
              "      <td>26</td>\n",
              "      <td>3231</td>\n",
              "      <td>4</td>\n",
              "      <td>2</td>\n",
              "      <td>7138</td>\n",
              "      <td>2</td>\n",
              "      <td>19</td>\n",
              "      <td>3079</td>\n",
              "      <td>3</td>\n",
              "      <td>31</td>\n",
              "      <td>9650</td>\n",
              "      <td>3</td>\n",
              "      <td>17</td>\n",
              "      <td>4179</td>\n",
              "      <td>2</td>\n",
              "      <td>5</td>\n",
              "      <td>5928</td>\n",
              "      <td>1</td>\n",
              "      <td>21</td>\n",
              "      <td>2838</td>\n",
              "      <td>1</td>\n",
              "      <td>20</td>\n",
              "      <td>2560</td>\n",
              "      <td>4</td>\n",
              "      <td>...</td>\n",
              "      <td>1</td>\n",
              "      <td>7</td>\n",
              "      <td>4</td>\n",
              "      <td>6</td>\n",
              "      <td>4</td>\n",
              "      <td>6</td>\n",
              "      <td>1</td>\n",
              "      <td>6</td>\n",
              "      <td>1</td>\n",
              "      <td>1</td>\n",
              "      <td>0</td>\n",
              "      <td>0</td>\n",
              "      <td>1</td>\n",
              "      <td>1</td>\n",
              "      <td>0</td>\n",
              "      <td>0</td>\n",
              "      <td>0</td>\n",
              "      <td>0</td>\n",
              "      <td>1</td>\n",
              "      <td>0</td>\n",
              "      <td>0</td>\n",
              "      <td>0</td>\n",
              "      <td>1</td>\n",
              "      <td>1</td>\n",
              "      <td>1</td>\n",
              "      <td>1</td>\n",
              "      <td>3</td>\n",
              "      <td>2</td>\n",
              "      <td>1</td>\n",
              "      <td>13</td>\n",
              "      <td>2</td>\n",
              "      <td>1</td>\n",
              "      <td>2</td>\n",
              "      <td>4</td>\n",
              "      <td>5</td>\n",
              "      <td>70</td>\n",
              "      <td>2</td>\n",
              "      <td>1</td>\n",
              "      <td>5</td>\n",
              "      <td>biology</td>\n",
              "    </tr>\n",
              "    <tr>\n",
              "      <th>4</th>\n",
              "      <td>2</td>\n",
              "      <td>36</td>\n",
              "      <td>3215</td>\n",
              "      <td>2</td>\n",
              "      <td>13</td>\n",
              "      <td>7731</td>\n",
              "      <td>3</td>\n",
              "      <td>5</td>\n",
              "      <td>4156</td>\n",
              "      <td>4</td>\n",
              "      <td>10</td>\n",
              "      <td>2802</td>\n",
              "      <td>4</td>\n",
              "      <td>2</td>\n",
              "      <td>5628</td>\n",
              "      <td>2</td>\n",
              "      <td>9</td>\n",
              "      <td>6522</td>\n",
              "      <td>4</td>\n",
              "      <td>34</td>\n",
              "      <td>2374</td>\n",
              "      <td>4</td>\n",
              "      <td>11</td>\n",
              "      <td>3054</td>\n",
              "      <td>4</td>\n",
              "      <td>7</td>\n",
              "      <td>2975</td>\n",
              "      <td>3</td>\n",
              "      <td>14</td>\n",
              "      <td>3524</td>\n",
              "      <td>2</td>\n",
              "      <td>33</td>\n",
              "      <td>3033</td>\n",
              "      <td>4</td>\n",
              "      <td>23</td>\n",
              "      <td>2132</td>\n",
              "      <td>4</td>\n",
              "      <td>17</td>\n",
              "      <td>1314</td>\n",
              "      <td>4</td>\n",
              "      <td>...</td>\n",
              "      <td>5</td>\n",
              "      <td>3</td>\n",
              "      <td>6</td>\n",
              "      <td>5</td>\n",
              "      <td>5</td>\n",
              "      <td>5</td>\n",
              "      <td>6</td>\n",
              "      <td>3</td>\n",
              "      <td>3</td>\n",
              "      <td>1</td>\n",
              "      <td>1</td>\n",
              "      <td>0</td>\n",
              "      <td>1</td>\n",
              "      <td>1</td>\n",
              "      <td>0</td>\n",
              "      <td>0</td>\n",
              "      <td>1</td>\n",
              "      <td>0</td>\n",
              "      <td>1</td>\n",
              "      <td>0</td>\n",
              "      <td>0</td>\n",
              "      <td>1</td>\n",
              "      <td>1</td>\n",
              "      <td>1</td>\n",
              "      <td>1</td>\n",
              "      <td>3</td>\n",
              "      <td>2</td>\n",
              "      <td>2</td>\n",
              "      <td>2</td>\n",
              "      <td>19</td>\n",
              "      <td>2</td>\n",
              "      <td>2</td>\n",
              "      <td>3</td>\n",
              "      <td>10</td>\n",
              "      <td>1</td>\n",
              "      <td>10</td>\n",
              "      <td>2</td>\n",
              "      <td>1</td>\n",
              "      <td>4</td>\n",
              "      <td>Psychology</td>\n",
              "    </tr>\n",
              "    <tr>\n",
              "      <th>...</th>\n",
              "      <td>...</td>\n",
              "      <td>...</td>\n",
              "      <td>...</td>\n",
              "      <td>...</td>\n",
              "      <td>...</td>\n",
              "      <td>...</td>\n",
              "      <td>...</td>\n",
              "      <td>...</td>\n",
              "      <td>...</td>\n",
              "      <td>...</td>\n",
              "      <td>...</td>\n",
              "      <td>...</td>\n",
              "      <td>...</td>\n",
              "      <td>...</td>\n",
              "      <td>...</td>\n",
              "      <td>...</td>\n",
              "      <td>...</td>\n",
              "      <td>...</td>\n",
              "      <td>...</td>\n",
              "      <td>...</td>\n",
              "      <td>...</td>\n",
              "      <td>...</td>\n",
              "      <td>...</td>\n",
              "      <td>...</td>\n",
              "      <td>...</td>\n",
              "      <td>...</td>\n",
              "      <td>...</td>\n",
              "      <td>...</td>\n",
              "      <td>...</td>\n",
              "      <td>...</td>\n",
              "      <td>...</td>\n",
              "      <td>...</td>\n",
              "      <td>...</td>\n",
              "      <td>...</td>\n",
              "      <td>...</td>\n",
              "      <td>...</td>\n",
              "      <td>...</td>\n",
              "      <td>...</td>\n",
              "      <td>...</td>\n",
              "      <td>...</td>\n",
              "      <td>...</td>\n",
              "      <td>...</td>\n",
              "      <td>...</td>\n",
              "      <td>...</td>\n",
              "      <td>...</td>\n",
              "      <td>...</td>\n",
              "      <td>...</td>\n",
              "      <td>...</td>\n",
              "      <td>...</td>\n",
              "      <td>...</td>\n",
              "      <td>...</td>\n",
              "      <td>...</td>\n",
              "      <td>...</td>\n",
              "      <td>...</td>\n",
              "      <td>...</td>\n",
              "      <td>...</td>\n",
              "      <td>...</td>\n",
              "      <td>...</td>\n",
              "      <td>...</td>\n",
              "      <td>...</td>\n",
              "      <td>...</td>\n",
              "      <td>...</td>\n",
              "      <td>...</td>\n",
              "      <td>...</td>\n",
              "      <td>...</td>\n",
              "      <td>...</td>\n",
              "      <td>...</td>\n",
              "      <td>...</td>\n",
              "      <td>...</td>\n",
              "      <td>...</td>\n",
              "      <td>...</td>\n",
              "      <td>...</td>\n",
              "      <td>...</td>\n",
              "      <td>...</td>\n",
              "      <td>...</td>\n",
              "      <td>...</td>\n",
              "      <td>...</td>\n",
              "      <td>...</td>\n",
              "      <td>...</td>\n",
              "      <td>...</td>\n",
              "      <td>...</td>\n",
              "    </tr>\n",
              "    <tr>\n",
              "      <th>39770</th>\n",
              "      <td>2</td>\n",
              "      <td>31</td>\n",
              "      <td>3287</td>\n",
              "      <td>1</td>\n",
              "      <td>5</td>\n",
              "      <td>2216</td>\n",
              "      <td>3</td>\n",
              "      <td>29</td>\n",
              "      <td>3895</td>\n",
              "      <td>2</td>\n",
              "      <td>37</td>\n",
              "      <td>2767</td>\n",
              "      <td>3</td>\n",
              "      <td>39</td>\n",
              "      <td>1745</td>\n",
              "      <td>2</td>\n",
              "      <td>4</td>\n",
              "      <td>6424</td>\n",
              "      <td>1</td>\n",
              "      <td>36</td>\n",
              "      <td>3737</td>\n",
              "      <td>3</td>\n",
              "      <td>24</td>\n",
              "      <td>1977</td>\n",
              "      <td>1</td>\n",
              "      <td>18</td>\n",
              "      <td>4089</td>\n",
              "      <td>4</td>\n",
              "      <td>34</td>\n",
              "      <td>1816</td>\n",
              "      <td>2</td>\n",
              "      <td>26</td>\n",
              "      <td>1928</td>\n",
              "      <td>2</td>\n",
              "      <td>17</td>\n",
              "      <td>3159</td>\n",
              "      <td>4</td>\n",
              "      <td>32</td>\n",
              "      <td>2768</td>\n",
              "      <td>2</td>\n",
              "      <td>...</td>\n",
              "      <td>2</td>\n",
              "      <td>3</td>\n",
              "      <td>5</td>\n",
              "      <td>6</td>\n",
              "      <td>5</td>\n",
              "      <td>5</td>\n",
              "      <td>3</td>\n",
              "      <td>3</td>\n",
              "      <td>6</td>\n",
              "      <td>1</td>\n",
              "      <td>1</td>\n",
              "      <td>0</td>\n",
              "      <td>1</td>\n",
              "      <td>1</td>\n",
              "      <td>0</td>\n",
              "      <td>0</td>\n",
              "      <td>0</td>\n",
              "      <td>0</td>\n",
              "      <td>1</td>\n",
              "      <td>0</td>\n",
              "      <td>0</td>\n",
              "      <td>1</td>\n",
              "      <td>1</td>\n",
              "      <td>1</td>\n",
              "      <td>1</td>\n",
              "      <td>2</td>\n",
              "      <td>2</td>\n",
              "      <td>1</td>\n",
              "      <td>1</td>\n",
              "      <td>16</td>\n",
              "      <td>2</td>\n",
              "      <td>1</td>\n",
              "      <td>1</td>\n",
              "      <td>2</td>\n",
              "      <td>4</td>\n",
              "      <td>60</td>\n",
              "      <td>2</td>\n",
              "      <td>1</td>\n",
              "      <td>2</td>\n",
              "      <td>None</td>\n",
              "    </tr>\n",
              "    <tr>\n",
              "      <th>39771</th>\n",
              "      <td>3</td>\n",
              "      <td>14</td>\n",
              "      <td>4792</td>\n",
              "      <td>4</td>\n",
              "      <td>41</td>\n",
              "      <td>2604</td>\n",
              "      <td>3</td>\n",
              "      <td>15</td>\n",
              "      <td>2668</td>\n",
              "      <td>4</td>\n",
              "      <td>33</td>\n",
              "      <td>4609</td>\n",
              "      <td>3</td>\n",
              "      <td>17</td>\n",
              "      <td>2434</td>\n",
              "      <td>4</td>\n",
              "      <td>26</td>\n",
              "      <td>2503</td>\n",
              "      <td>4</td>\n",
              "      <td>34</td>\n",
              "      <td>2598</td>\n",
              "      <td>4</td>\n",
              "      <td>11</td>\n",
              "      <td>2133</td>\n",
              "      <td>3</td>\n",
              "      <td>13</td>\n",
              "      <td>10455</td>\n",
              "      <td>4</td>\n",
              "      <td>37</td>\n",
              "      <td>3251</td>\n",
              "      <td>4</td>\n",
              "      <td>18</td>\n",
              "      <td>2332</td>\n",
              "      <td>4</td>\n",
              "      <td>28</td>\n",
              "      <td>2406</td>\n",
              "      <td>4</td>\n",
              "      <td>5</td>\n",
              "      <td>3912</td>\n",
              "      <td>4</td>\n",
              "      <td>...</td>\n",
              "      <td>5</td>\n",
              "      <td>5</td>\n",
              "      <td>7</td>\n",
              "      <td>4</td>\n",
              "      <td>6</td>\n",
              "      <td>4</td>\n",
              "      <td>7</td>\n",
              "      <td>4</td>\n",
              "      <td>4</td>\n",
              "      <td>1</td>\n",
              "      <td>1</td>\n",
              "      <td>0</td>\n",
              "      <td>1</td>\n",
              "      <td>1</td>\n",
              "      <td>0</td>\n",
              "      <td>0</td>\n",
              "      <td>0</td>\n",
              "      <td>0</td>\n",
              "      <td>1</td>\n",
              "      <td>0</td>\n",
              "      <td>1</td>\n",
              "      <td>0</td>\n",
              "      <td>1</td>\n",
              "      <td>1</td>\n",
              "      <td>1</td>\n",
              "      <td>3</td>\n",
              "      <td>2</td>\n",
              "      <td>1</td>\n",
              "      <td>2</td>\n",
              "      <td>21</td>\n",
              "      <td>1</td>\n",
              "      <td>1</td>\n",
              "      <td>1</td>\n",
              "      <td>10</td>\n",
              "      <td>0</td>\n",
              "      <td>10</td>\n",
              "      <td>2</td>\n",
              "      <td>1</td>\n",
              "      <td>4</td>\n",
              "      <td>Mathematic</td>\n",
              "    </tr>\n",
              "    <tr>\n",
              "      <th>39772</th>\n",
              "      <td>2</td>\n",
              "      <td>1</td>\n",
              "      <td>25147</td>\n",
              "      <td>1</td>\n",
              "      <td>4</td>\n",
              "      <td>4555</td>\n",
              "      <td>2</td>\n",
              "      <td>14</td>\n",
              "      <td>3388</td>\n",
              "      <td>1</td>\n",
              "      <td>27</td>\n",
              "      <td>2753</td>\n",
              "      <td>1</td>\n",
              "      <td>6</td>\n",
              "      <td>5455</td>\n",
              "      <td>1</td>\n",
              "      <td>41</td>\n",
              "      <td>4938</td>\n",
              "      <td>1</td>\n",
              "      <td>24</td>\n",
              "      <td>3738</td>\n",
              "      <td>1</td>\n",
              "      <td>40</td>\n",
              "      <td>3820</td>\n",
              "      <td>2</td>\n",
              "      <td>28</td>\n",
              "      <td>10008</td>\n",
              "      <td>1</td>\n",
              "      <td>38</td>\n",
              "      <td>3670</td>\n",
              "      <td>1</td>\n",
              "      <td>5</td>\n",
              "      <td>9493</td>\n",
              "      <td>1</td>\n",
              "      <td>22</td>\n",
              "      <td>7407</td>\n",
              "      <td>2</td>\n",
              "      <td>2</td>\n",
              "      <td>13180</td>\n",
              "      <td>1</td>\n",
              "      <td>...</td>\n",
              "      <td>6</td>\n",
              "      <td>7</td>\n",
              "      <td>5</td>\n",
              "      <td>6</td>\n",
              "      <td>3</td>\n",
              "      <td>6</td>\n",
              "      <td>1</td>\n",
              "      <td>5</td>\n",
              "      <td>4</td>\n",
              "      <td>0</td>\n",
              "      <td>1</td>\n",
              "      <td>0</td>\n",
              "      <td>1</td>\n",
              "      <td>1</td>\n",
              "      <td>0</td>\n",
              "      <td>0</td>\n",
              "      <td>0</td>\n",
              "      <td>0</td>\n",
              "      <td>1</td>\n",
              "      <td>0</td>\n",
              "      <td>0</td>\n",
              "      <td>0</td>\n",
              "      <td>0</td>\n",
              "      <td>1</td>\n",
              "      <td>1</td>\n",
              "      <td>3</td>\n",
              "      <td>2</td>\n",
              "      <td>2</td>\n",
              "      <td>1</td>\n",
              "      <td>48</td>\n",
              "      <td>2</td>\n",
              "      <td>1</td>\n",
              "      <td>1</td>\n",
              "      <td>7</td>\n",
              "      <td>1</td>\n",
              "      <td>30</td>\n",
              "      <td>1</td>\n",
              "      <td>2</td>\n",
              "      <td>3</td>\n",
              "      <td>Computer Science</td>\n",
              "    </tr>\n",
              "    <tr>\n",
              "      <th>39773</th>\n",
              "      <td>3</td>\n",
              "      <td>36</td>\n",
              "      <td>4286</td>\n",
              "      <td>1</td>\n",
              "      <td>34</td>\n",
              "      <td>2736</td>\n",
              "      <td>2</td>\n",
              "      <td>10</td>\n",
              "      <td>5968</td>\n",
              "      <td>2</td>\n",
              "      <td>20</td>\n",
              "      <td>5655</td>\n",
              "      <td>3</td>\n",
              "      <td>9</td>\n",
              "      <td>2296</td>\n",
              "      <td>3</td>\n",
              "      <td>16</td>\n",
              "      <td>2627</td>\n",
              "      <td>3</td>\n",
              "      <td>32</td>\n",
              "      <td>3143</td>\n",
              "      <td>4</td>\n",
              "      <td>2</td>\n",
              "      <td>3164</td>\n",
              "      <td>3</td>\n",
              "      <td>19</td>\n",
              "      <td>5568</td>\n",
              "      <td>1</td>\n",
              "      <td>41</td>\n",
              "      <td>2324</td>\n",
              "      <td>3</td>\n",
              "      <td>39</td>\n",
              "      <td>2766</td>\n",
              "      <td>3</td>\n",
              "      <td>26</td>\n",
              "      <td>2852</td>\n",
              "      <td>4</td>\n",
              "      <td>42</td>\n",
              "      <td>2121</td>\n",
              "      <td>4</td>\n",
              "      <td>...</td>\n",
              "      <td>6</td>\n",
              "      <td>5</td>\n",
              "      <td>7</td>\n",
              "      <td>3</td>\n",
              "      <td>5</td>\n",
              "      <td>3</td>\n",
              "      <td>5</td>\n",
              "      <td>3</td>\n",
              "      <td>4</td>\n",
              "      <td>1</td>\n",
              "      <td>1</td>\n",
              "      <td>1</td>\n",
              "      <td>1</td>\n",
              "      <td>1</td>\n",
              "      <td>0</td>\n",
              "      <td>0</td>\n",
              "      <td>1</td>\n",
              "      <td>0</td>\n",
              "      <td>1</td>\n",
              "      <td>0</td>\n",
              "      <td>0</td>\n",
              "      <td>1</td>\n",
              "      <td>1</td>\n",
              "      <td>1</td>\n",
              "      <td>1</td>\n",
              "      <td>3</td>\n",
              "      <td>2</td>\n",
              "      <td>2</td>\n",
              "      <td>1</td>\n",
              "      <td>20</td>\n",
              "      <td>2</td>\n",
              "      <td>1</td>\n",
              "      <td>1</td>\n",
              "      <td>6</td>\n",
              "      <td>1</td>\n",
              "      <td>60</td>\n",
              "      <td>1</td>\n",
              "      <td>1</td>\n",
              "      <td>2</td>\n",
              "      <td>History</td>\n",
              "    </tr>\n",
              "    <tr>\n",
              "      <th>39774</th>\n",
              "      <td>2</td>\n",
              "      <td>28</td>\n",
              "      <td>32251</td>\n",
              "      <td>1</td>\n",
              "      <td>22</td>\n",
              "      <td>3317</td>\n",
              "      <td>2</td>\n",
              "      <td>4</td>\n",
              "      <td>11734</td>\n",
              "      <td>1</td>\n",
              "      <td>19</td>\n",
              "      <td>4659</td>\n",
              "      <td>4</td>\n",
              "      <td>32</td>\n",
              "      <td>4236</td>\n",
              "      <td>2</td>\n",
              "      <td>1</td>\n",
              "      <td>33800</td>\n",
              "      <td>1</td>\n",
              "      <td>3</td>\n",
              "      <td>7855</td>\n",
              "      <td>1</td>\n",
              "      <td>34</td>\n",
              "      <td>3151</td>\n",
              "      <td>1</td>\n",
              "      <td>31</td>\n",
              "      <td>12698</td>\n",
              "      <td>1</td>\n",
              "      <td>41</td>\n",
              "      <td>3656</td>\n",
              "      <td>3</td>\n",
              "      <td>13</td>\n",
              "      <td>2843</td>\n",
              "      <td>1</td>\n",
              "      <td>40</td>\n",
              "      <td>3681</td>\n",
              "      <td>3</td>\n",
              "      <td>7</td>\n",
              "      <td>4381</td>\n",
              "      <td>1</td>\n",
              "      <td>...</td>\n",
              "      <td>2</td>\n",
              "      <td>3</td>\n",
              "      <td>5</td>\n",
              "      <td>6</td>\n",
              "      <td>3</td>\n",
              "      <td>5</td>\n",
              "      <td>5</td>\n",
              "      <td>1</td>\n",
              "      <td>2</td>\n",
              "      <td>1</td>\n",
              "      <td>0</td>\n",
              "      <td>0</td>\n",
              "      <td>1</td>\n",
              "      <td>1</td>\n",
              "      <td>0</td>\n",
              "      <td>0</td>\n",
              "      <td>0</td>\n",
              "      <td>0</td>\n",
              "      <td>1</td>\n",
              "      <td>0</td>\n",
              "      <td>0</td>\n",
              "      <td>0</td>\n",
              "      <td>0</td>\n",
              "      <td>1</td>\n",
              "      <td>1</td>\n",
              "      <td>3</td>\n",
              "      <td>3</td>\n",
              "      <td>2</td>\n",
              "      <td>2</td>\n",
              "      <td>26</td>\n",
              "      <td>1</td>\n",
              "      <td>1</td>\n",
              "      <td>1</td>\n",
              "      <td>10</td>\n",
              "      <td>1</td>\n",
              "      <td>10</td>\n",
              "      <td>1</td>\n",
              "      <td>1</td>\n",
              "      <td>4</td>\n",
              "      <td>Cognitive Science</td>\n",
              "    </tr>\n",
              "  </tbody>\n",
              "</table>\n",
              "<p>39775 rows × 172 columns</p>\n",
              "</div>\n",
              "      <button class=\"colab-df-convert\" onclick=\"convertToInteractive('df-61389380-a45c-4d8a-89dc-873110af9c1c')\"\n",
              "              title=\"Convert this dataframe to an interactive table.\"\n",
              "              style=\"display:none;\">\n",
              "        \n",
              "  <svg xmlns=\"http://www.w3.org/2000/svg\" height=\"24px\"viewBox=\"0 0 24 24\"\n",
              "       width=\"24px\">\n",
              "    <path d=\"M0 0h24v24H0V0z\" fill=\"none\"/>\n",
              "    <path d=\"M18.56 5.44l.94 2.06.94-2.06 2.06-.94-2.06-.94-.94-2.06-.94 2.06-2.06.94zm-11 1L8.5 8.5l.94-2.06 2.06-.94-2.06-.94L8.5 2.5l-.94 2.06-2.06.94zm10 10l.94 2.06.94-2.06 2.06-.94-2.06-.94-.94-2.06-.94 2.06-2.06.94z\"/><path d=\"M17.41 7.96l-1.37-1.37c-.4-.4-.92-.59-1.43-.59-.52 0-1.04.2-1.43.59L10.3 9.45l-7.72 7.72c-.78.78-.78 2.05 0 2.83L4 21.41c.39.39.9.59 1.41.59.51 0 1.02-.2 1.41-.59l7.78-7.78 2.81-2.81c.8-.78.8-2.07 0-2.86zM5.41 20L4 18.59l7.72-7.72 1.47 1.35L5.41 20z\"/>\n",
              "  </svg>\n",
              "      </button>\n",
              "      \n",
              "  <style>\n",
              "    .colab-df-container {\n",
              "      display:flex;\n",
              "      flex-wrap:wrap;\n",
              "      gap: 12px;\n",
              "    }\n",
              "\n",
              "    .colab-df-convert {\n",
              "      background-color: #E8F0FE;\n",
              "      border: none;\n",
              "      border-radius: 50%;\n",
              "      cursor: pointer;\n",
              "      display: none;\n",
              "      fill: #1967D2;\n",
              "      height: 32px;\n",
              "      padding: 0 0 0 0;\n",
              "      width: 32px;\n",
              "    }\n",
              "\n",
              "    .colab-df-convert:hover {\n",
              "      background-color: #E2EBFA;\n",
              "      box-shadow: 0px 1px 2px rgba(60, 64, 67, 0.3), 0px 1px 3px 1px rgba(60, 64, 67, 0.15);\n",
              "      fill: #174EA6;\n",
              "    }\n",
              "\n",
              "    [theme=dark] .colab-df-convert {\n",
              "      background-color: #3B4455;\n",
              "      fill: #D2E3FC;\n",
              "    }\n",
              "\n",
              "    [theme=dark] .colab-df-convert:hover {\n",
              "      background-color: #434B5C;\n",
              "      box-shadow: 0px 1px 3px 1px rgba(0, 0, 0, 0.15);\n",
              "      filter: drop-shadow(0px 1px 2px rgba(0, 0, 0, 0.3));\n",
              "      fill: #FFFFFF;\n",
              "    }\n",
              "  </style>\n",
              "\n",
              "      <script>\n",
              "        const buttonEl =\n",
              "          document.querySelector('#df-61389380-a45c-4d8a-89dc-873110af9c1c button.colab-df-convert');\n",
              "        buttonEl.style.display =\n",
              "          google.colab.kernel.accessAllowed ? 'block' : 'none';\n",
              "\n",
              "        async function convertToInteractive(key) {\n",
              "          const element = document.querySelector('#df-61389380-a45c-4d8a-89dc-873110af9c1c');\n",
              "          const dataTable =\n",
              "            await google.colab.kernel.invokeFunction('convertToInteractive',\n",
              "                                                     [key], {});\n",
              "          if (!dataTable) return;\n",
              "\n",
              "          const docLinkHtml = 'Like what you see? Visit the ' +\n",
              "            '<a target=\"_blank\" href=https://colab.research.google.com/notebooks/data_table.ipynb>data table notebook</a>'\n",
              "            + ' to learn more about interactive tables.';\n",
              "          element.innerHTML = '';\n",
              "          dataTable['output_type'] = 'display_data';\n",
              "          await google.colab.output.renderOutput(dataTable, element);\n",
              "          const docLink = document.createElement('div');\n",
              "          docLink.innerHTML = docLinkHtml;\n",
              "          element.appendChild(docLink);\n",
              "        }\n",
              "      </script>\n",
              "    </div>\n",
              "  </div>\n",
              "  "
            ],
            "text/plain": [
              "       Q1A  Q1I    Q1E  Q2A  ...  voted  married  familysize              major\n",
              "0        4   28   3890    4  ...      2        1           2               None\n",
              "1        4    2   8118    1  ...      2        1           4               None\n",
              "2        3    7   5784    1  ...      1        1           3               None\n",
              "3        2   23   5081    3  ...      2        1           5            biology\n",
              "4        2   36   3215    2  ...      2        1           4         Psychology\n",
              "...    ...  ...    ...  ...  ...    ...      ...         ...                ...\n",
              "39770    2   31   3287    1  ...      2        1           2               None\n",
              "39771    3   14   4792    4  ...      2        1           4         Mathematic\n",
              "39772    2    1  25147    1  ...      1        2           3   Computer Science\n",
              "39773    3   36   4286    1  ...      1        1           2            History\n",
              "39774    2   28  32251    1  ...      1        1           4  Cognitive Science\n",
              "\n",
              "[39775 rows x 172 columns]"
            ]
          },
          "metadata": {},
          "execution_count": 4
        }
      ]
    },
    {
      "cell_type": "markdown",
      "source": [
        "#Calculating Depression Score"
      ],
      "metadata": {
        "id": "7H-SNMEQx84g"
      }
    },
    {
      "cell_type": "code",
      "source": [
        "#Reducing scores by 1\n",
        "\n",
        "for i in range(39775):\n",
        "  for j in range(1,43):\n",
        "    colname=\"Q\"+str(qn)+\"A\"\n",
        "    df[colname][i]-=1"
      ],
      "metadata": {
        "id": "hj8PbQfnNC1M"
      },
      "execution_count": null,
      "outputs": []
    },
    {
      "cell_type": "code",
      "source": [
        "dl=[3, 5, 10, 13, 16, 17, 21, 24, 26, 31, 34, 37, 38, 42]\n",
        "sum=[]\n",
        "\n",
        "for i in range(39775):\n",
        "  s=0\n",
        "  for qn in dl:\n",
        "    colname=\"Q\"+str(qn)+\"A\"\n",
        "    s+=df[colname][i]\n",
        "  sum.append(s)"
      ],
      "metadata": {
        "id": "SXRHdODsjiut"
      },
      "execution_count": null,
      "outputs": []
    },
    {
      "cell_type": "code",
      "source": [
        "len(sum)"
      ],
      "metadata": {
        "colab": {
          "base_uri": "https://localhost:8080/"
        },
        "id": "dhn4FJGhmqnL",
        "outputId": "64d45d5b-44da-4733-df63-0f6d7e26fa39"
      },
      "execution_count": null,
      "outputs": [
        {
          "output_type": "execute_result",
          "data": {
            "text/plain": [
              "39775"
            ]
          },
          "metadata": {},
          "execution_count": 6
        }
      ]
    },
    {
      "cell_type": "code",
      "source": [
        "df[\"Depression Score\"]=sum"
      ],
      "metadata": {
        "id": "lXb7J2jFmrqw"
      },
      "execution_count": null,
      "outputs": []
    },
    {
      "cell_type": "code",
      "source": [
        "df.columns"
      ],
      "metadata": {
        "colab": {
          "base_uri": "https://localhost:8080/"
        },
        "id": "DFyEwvH9mtAN",
        "outputId": "2daee9e8-e008-4bb9-b0da-1bb6b73ecf18"
      },
      "execution_count": null,
      "outputs": [
        {
          "output_type": "execute_result",
          "data": {
            "text/plain": [
              "Index(['Q1A', 'Q1I', 'Q1E', 'Q2A', 'Q2I', 'Q2E', 'Q3A', 'Q3I', 'Q3E', 'Q4A',\n",
              "       ...\n",
              "       'uniquenetworklocation', 'hand', 'religion', 'orientation', 'race',\n",
              "       'voted', 'married', 'familysize', 'major', 'Depression Score'],\n",
              "      dtype='object', length=173)"
            ]
          },
          "metadata": {},
          "execution_count": 8
        }
      ]
    },
    {
      "cell_type": "markdown",
      "source": [
        "#Calculating Anxiety Score"
      ],
      "metadata": {
        "id": "uBRoOu0nyCSl"
      }
    },
    {
      "cell_type": "code",
      "source": [
        "al=[2, 4, 7, 9, 15, 19, 20, 23, 25, 28, 30, 36, 40, 41]\n",
        "asum=[]\n",
        "\n",
        "for i in range(39775):\n",
        "  s=0\n",
        "  for qn in al:\n",
        "    colname=\"Q\"+str(qn)+\"A\"\n",
        "    s+=df[colname][i]\n",
        "  asum.append(s)"
      ],
      "metadata": {
        "id": "iG7LtXVknF88"
      },
      "execution_count": null,
      "outputs": []
    },
    {
      "cell_type": "code",
      "source": [
        "len(asum)"
      ],
      "metadata": {
        "colab": {
          "base_uri": "https://localhost:8080/"
        },
        "outputId": "b15fce89-71c7-4ab0-87a9-a1ce9d5be82f",
        "id": "fnu8DX_JnS5e"
      },
      "execution_count": null,
      "outputs": [
        {
          "output_type": "execute_result",
          "data": {
            "text/plain": [
              "39775"
            ]
          },
          "metadata": {},
          "execution_count": 10
        }
      ]
    },
    {
      "cell_type": "code",
      "source": [
        "df[\"Anxiety Score\"]=asum"
      ],
      "metadata": {
        "id": "p5tjHNO0nWzy"
      },
      "execution_count": null,
      "outputs": []
    },
    {
      "cell_type": "markdown",
      "source": [
        "#Calculating Stress Score"
      ],
      "metadata": {
        "id": "0ZFjIRa5yHup"
      }
    },
    {
      "cell_type": "code",
      "source": [
        "sl=[1, 6, 8, 11, 12, 14, 18, 22, 27, 29, 32, 33, 35, 39]\n",
        "ssum=[]\n",
        "\n",
        "for i in range(39775):\n",
        "  s=0\n",
        "  for qn in sl:\n",
        "    colname=\"Q\"+str(qn)+\"A\"\n",
        "    s+=df[colname][i]\n",
        "  ssum.append(s)"
      ],
      "metadata": {
        "id": "mew88VL-nhyb"
      },
      "execution_count": null,
      "outputs": []
    },
    {
      "cell_type": "code",
      "source": [
        "len(ssum)"
      ],
      "metadata": {
        "colab": {
          "base_uri": "https://localhost:8080/"
        },
        "outputId": "8ee2ff61-7626-4929-9791-9be5ad6705f6",
        "id": "3zL-PgBunnu9"
      },
      "execution_count": null,
      "outputs": [
        {
          "output_type": "execute_result",
          "data": {
            "text/plain": [
              "39775"
            ]
          },
          "metadata": {},
          "execution_count": 13
        }
      ]
    },
    {
      "cell_type": "code",
      "source": [
        "df[\"Stress Score\"]=ssum"
      ],
      "metadata": {
        "id": "YYVpbBmAnrhx"
      },
      "execution_count": null,
      "outputs": []
    },
    {
      "cell_type": "code",
      "source": [
        "df.columns"
      ],
      "metadata": {
        "colab": {
          "base_uri": "https://localhost:8080/"
        },
        "id": "VFi7P3-Vn2kr",
        "outputId": "255396ef-9fdc-45c2-fcfd-761b019edf55"
      },
      "execution_count": null,
      "outputs": [
        {
          "output_type": "execute_result",
          "data": {
            "text/plain": [
              "Index(['Q1A', 'Q1I', 'Q1E', 'Q2A', 'Q2I', 'Q2E', 'Q3A', 'Q3I', 'Q3E', 'Q4A',\n",
              "       ...\n",
              "       'religion', 'orientation', 'race', 'voted', 'married', 'familysize',\n",
              "       'major', 'Depression Score', 'Anxiety Score', 'Stress Score'],\n",
              "      dtype='object', length=175)"
            ]
          },
          "metadata": {},
          "execution_count": 15
        }
      ]
    },
    {
      "cell_type": "code",
      "source": [
        "df.to_csv(\"Scored Quiz.csv\")"
      ],
      "metadata": {
        "id": "f3c9kGGQn39t"
      },
      "execution_count": null,
      "outputs": []
    },
    {
      "cell_type": "code",
      "source": [
        "df.to_excel(\"Scored Quiz Excel.xlsx\")"
      ],
      "metadata": {
        "id": "6NM8pYrIoJTs"
      },
      "execution_count": null,
      "outputs": []
    },
    {
      "cell_type": "markdown",
      "source": [
        "#Calculating Personality Score\n",
        "\n",
        "---\n",
        "TIPI scale scoring (“R” denotes reverse-scored items):\n",
        "\n",
        "1. Extraversion: 1, 6R\n",
        "2. Agreeableness: 2R, 7\n",
        "3. Conscientiousness; 3, 8R\n",
        "4. Emotional Stability: 4R, 9\n",
        "5. Openness to Experiences: 5, 10R"
      ],
      "metadata": {
        "id": "tt2YXooXxpU9"
      }
    },
    {
      "cell_type": "code",
      "source": [
        "reversed_score={1:7,2:6,3:5,4:4,5:3,6:2,7:1}"
      ],
      "metadata": {
        "id": "ZZOfOPEtox4l"
      },
      "execution_count": null,
      "outputs": []
    },
    {
      "cell_type": "code",
      "source": [
        "len(df[\"TIPI1\"])"
      ],
      "metadata": {
        "colab": {
          "base_uri": "https://localhost:8080/"
        },
        "id": "5FzwTC110GES",
        "outputId": "32363bc3-c4d4-4be9-bcf1-0e13ad199f0e"
      },
      "execution_count": null,
      "outputs": [
        {
          "output_type": "execute_result",
          "data": {
            "text/plain": [
              "39775"
            ]
          },
          "metadata": {},
          "execution_count": 17
        }
      ]
    },
    {
      "cell_type": "code",
      "source": [
        "c=0\n",
        "for x in df[\"TIPI1\"]:\n",
        "  if x==0:\n",
        "    c+=1\n",
        "print(c)"
      ],
      "metadata": {
        "colab": {
          "base_uri": "https://localhost:8080/"
        },
        "id": "__3PbcnU1oyV",
        "outputId": "b68eb9af-a8b2-42fb-e505-ca61873e9081"
      },
      "execution_count": null,
      "outputs": [
        {
          "output_type": "stream",
          "name": "stdout",
          "text": [
            "485\n"
          ]
        }
      ]
    },
    {
      "cell_type": "code",
      "source": [
        "\"\"\" index_dropped_for_tipiZero=[]\n",
        "\n",
        "for i in range(39775):\n",
        "  if df[\"TIPI1\"][i]==0:\n",
        "    index_dropped_for_tipiZero.append(i)\n",
        "\n",
        "df.drop(index_dropped_for_tipiZero, inplace=True) \"\"\""
      ],
      "metadata": {
        "colab": {
          "base_uri": "https://localhost:8080/",
          "height": 38
        },
        "id": "K6AuQdWD5BiA",
        "outputId": "a94154b4-caf8-4630-915b-9784d54f5bba"
      },
      "execution_count": null,
      "outputs": [
        {
          "output_type": "execute_result",
          "data": {
            "application/vnd.google.colaboratory.intrinsic+json": {
              "type": "string"
            },
            "text/plain": [
              "' index_dropped_for_tipiZero=[]\\n\\nfor i in range(39775):\\n  if df[\"TIPI1\"][i]==0:\\n    index_dropped_for_tipiZero.append(i)\\n\\ndf.drop(index_dropped_for_tipiZero, inplace=True) '"
            ]
          },
          "metadata": {},
          "execution_count": 19
        }
      ]
    },
    {
      "cell_type": "markdown",
      "source": [
        "##Calculating Extraversion Score"
      ],
      "metadata": {
        "id": "FT5mIWEwzMRH"
      }
    },
    {
      "cell_type": "code",
      "source": [
        "extraversion_score=[]\n",
        "\n",
        "for i in range(39775):\n",
        "  avg=0\n",
        "  a=df[\"TIPI1\"][i]\n",
        "  x=df[\"TIPI6\"][i]\n",
        "  if a==0 or x==0:\n",
        "    extraversion_score.append(0)\n",
        "    continue\n",
        "  b=reversed_score[x]\n",
        "  avg=(a+b)/2\n",
        "  extraversion_score.append(avg)"
      ],
      "metadata": {
        "id": "Z_awFWtLzLUU"
      },
      "execution_count": null,
      "outputs": []
    },
    {
      "cell_type": "code",
      "source": [
        "len(extraversion_score)"
      ],
      "metadata": {
        "colab": {
          "base_uri": "https://localhost:8080/"
        },
        "id": "48KcQgfy0kpq",
        "outputId": "4e0152d8-8973-4184-bea2-af758f9bab4b"
      },
      "execution_count": null,
      "outputs": [
        {
          "output_type": "execute_result",
          "data": {
            "text/plain": [
              "39775"
            ]
          },
          "metadata": {},
          "execution_count": 21
        }
      ]
    },
    {
      "cell_type": "code",
      "source": [
        "df[\"Extraversion Score\"]=extraversion_score"
      ],
      "metadata": {
        "id": "3cpuSQGb6N8T"
      },
      "execution_count": null,
      "outputs": []
    },
    {
      "cell_type": "code",
      "source": [
        "df.columns"
      ],
      "metadata": {
        "colab": {
          "base_uri": "https://localhost:8080/"
        },
        "id": "wos2UnHC6UmY",
        "outputId": "6832e7ef-0a02-4490-c5d0-5b65be0d9ebd"
      },
      "execution_count": null,
      "outputs": [
        {
          "output_type": "execute_result",
          "data": {
            "text/plain": [
              "Index(['Q1A', 'Q1I', 'Q1E', 'Q2A', 'Q2I', 'Q2E', 'Q3A', 'Q3I', 'Q3E', 'Q4A',\n",
              "       ...\n",
              "       'orientation', 'race', 'voted', 'married', 'familysize', 'major',\n",
              "       'Depression Score', 'Anxiety Score', 'Stress Score',\n",
              "       'Extraversion Score'],\n",
              "      dtype='object', length=176)"
            ]
          },
          "metadata": {},
          "execution_count": 23
        }
      ]
    },
    {
      "cell_type": "code",
      "source": [
        "df[\"Extraversion Score\"][10]"
      ],
      "metadata": {
        "colab": {
          "base_uri": "https://localhost:8080/"
        },
        "id": "uDD5YExj6WDp",
        "outputId": "f87b1115-cd74-4000-c375-b541ec98c346"
      },
      "execution_count": null,
      "outputs": [
        {
          "output_type": "execute_result",
          "data": {
            "text/plain": [
              "4.5"
            ]
          },
          "metadata": {},
          "execution_count": 24
        }
      ]
    },
    {
      "cell_type": "markdown",
      "source": [
        "#Calculating Agreeableness Score"
      ],
      "metadata": {
        "id": "NC1w3J-L6iRF"
      }
    },
    {
      "cell_type": "code",
      "source": [
        "agreeableness_score=[]\n",
        "\n",
        "for i in range(39775):\n",
        "  avg=0\n",
        "  a=df[\"TIPI7\"][i]\n",
        "  x=df[\"TIPI2\"][i]\n",
        "  if a==0 or x==0:\n",
        "    agreeableness_score.append(0)\n",
        "    continue\n",
        "  b=reversed_score[x]\n",
        "  avg=(a+b)/2\n",
        "  agreeableness_score.append(avg)"
      ],
      "metadata": {
        "id": "ACklcM-r6u7f"
      },
      "execution_count": null,
      "outputs": []
    },
    {
      "cell_type": "code",
      "source": [
        "df[\"Agreeableness Score\"]=agreeableness_score"
      ],
      "metadata": {
        "id": "8kkySlEY69X3"
      },
      "execution_count": null,
      "outputs": []
    },
    {
      "cell_type": "code",
      "source": [
        "df.columns"
      ],
      "metadata": {
        "colab": {
          "base_uri": "https://localhost:8080/"
        },
        "id": "Jd0WGZ8f7Qrz",
        "outputId": "226fe700-20ad-432f-9fbd-c9b3e1fc82e8"
      },
      "execution_count": null,
      "outputs": [
        {
          "output_type": "execute_result",
          "data": {
            "text/plain": [
              "Index(['Q1A', 'Q1I', 'Q1E', 'Q2A', 'Q2I', 'Q2E', 'Q3A', 'Q3I', 'Q3E', 'Q4A',\n",
              "       ...\n",
              "       'race', 'voted', 'married', 'familysize', 'major', 'Depression Score',\n",
              "       'Anxiety Score', 'Stress Score', 'Extraversion Score',\n",
              "       'Agreeableness Score'],\n",
              "      dtype='object', length=177)"
            ]
          },
          "metadata": {},
          "execution_count": 27
        }
      ]
    },
    {
      "cell_type": "markdown",
      "source": [
        "#Calculating Conscientiousness Score"
      ],
      "metadata": {
        "id": "h4sGJ0C77Zka"
      }
    },
    {
      "cell_type": "code",
      "source": [
        "conscientiousness_score=[]\n",
        "\n",
        "for i in range(39775):\n",
        "  avg=0\n",
        "  a=df[\"TIPI3\"][i]\n",
        "  x=df[\"TIPI8\"][i]\n",
        "  if a==0 or x==0:\n",
        "    conscientiousness_score.append(0)\n",
        "    continue\n",
        "  b=reversed_score[x]\n",
        "  avg=(a+b)/2\n",
        "  conscientiousness_score.append(avg)"
      ],
      "metadata": {
        "id": "REjSvdTT7Yxp"
      },
      "execution_count": null,
      "outputs": []
    },
    {
      "cell_type": "code",
      "source": [
        "df[\"Conscientiousness Score\"]=conscientiousness_score"
      ],
      "metadata": {
        "id": "2XAU5i_27vMm"
      },
      "execution_count": null,
      "outputs": []
    },
    {
      "cell_type": "markdown",
      "source": [
        "#Calculating Emotional Stability Score"
      ],
      "metadata": {
        "id": "0gM-TjWC789V"
      }
    },
    {
      "cell_type": "code",
      "source": [
        "es_score=[]\n",
        "\n",
        "for i in range(39775):\n",
        "  avg=0\n",
        "  a=df[\"TIPI9\"][i]\n",
        "  x=df[\"TIPI4\"][i]\n",
        "  if a==0 or x==0:\n",
        "    es_score.append(0)\n",
        "    continue\n",
        "  b=reversed_score[x]\n",
        "  avg=(a+b)/2\n",
        "  es_score.append(avg)"
      ],
      "metadata": {
        "id": "igu8FI4G8CZt"
      },
      "execution_count": null,
      "outputs": []
    },
    {
      "cell_type": "code",
      "source": [
        "df[\"Emotional Stability Score\"]=es_score"
      ],
      "metadata": {
        "id": "EOKu6bFZ7zQy"
      },
      "execution_count": null,
      "outputs": []
    },
    {
      "cell_type": "markdown",
      "source": [
        "#Calculating Openness to Experiences"
      ],
      "metadata": {
        "id": "PPSLRlIu8clF"
      }
    },
    {
      "cell_type": "code",
      "source": [
        "openness=[]\n",
        "\n",
        "for i in range(39775):\n",
        "  avg=0\n",
        "  a=df[\"TIPI5\"][i]\n",
        "  x=df[\"TIPI10\"][i]\n",
        "  if a==0 or x==0:\n",
        "    openness.append(0)\n",
        "    continue\n",
        "  b=reversed_score[x]\n",
        "  avg=(a+b)/2\n",
        "  openness.append(avg)"
      ],
      "metadata": {
        "id": "yY_be1aa8gQM"
      },
      "execution_count": null,
      "outputs": []
    },
    {
      "cell_type": "code",
      "source": [
        "df[\"Openness to Experiences Score\"]=openness"
      ],
      "metadata": {
        "id": "WFgaeLxF8ec9"
      },
      "execution_count": null,
      "outputs": []
    },
    {
      "cell_type": "code",
      "source": [
        "df.columns\n"
      ],
      "metadata": {
        "colab": {
          "base_uri": "https://localhost:8080/"
        },
        "id": "vyRmO84t80ds",
        "outputId": "8a877a74-68da-441c-f69d-0116d702f98a"
      },
      "execution_count": null,
      "outputs": [
        {
          "output_type": "execute_result",
          "data": {
            "text/plain": [
              "Index(['Q1A', 'Q1I', 'Q1E', 'Q2A', 'Q2I', 'Q2E', 'Q3A', 'Q3I', 'Q3E', 'Q4A',\n",
              "       ...\n",
              "       'familysize', 'major', 'Depression Score', 'Anxiety Score',\n",
              "       'Stress Score', 'Extraversion Score', 'Agreeableness Score',\n",
              "       'Conscientiousness Score', 'Emotional Stability Score',\n",
              "       'Openness to Experiences Score'],\n",
              "      dtype='object', length=180)"
            ]
          },
          "metadata": {},
          "execution_count": 34
        }
      ]
    },
    {
      "cell_type": "code",
      "source": [
        "df.to_csv(\"Dataset_Quiz.csv\")"
      ],
      "metadata": {
        "id": "EWtq5j4Z85eP"
      },
      "execution_count": null,
      "outputs": []
    },
    {
      "cell_type": "code",
      "source": [
        ""
      ],
      "metadata": {
        "id": "8_EuUxSVsMcB"
      },
      "execution_count": null,
      "outputs": []
    }
  ]
}